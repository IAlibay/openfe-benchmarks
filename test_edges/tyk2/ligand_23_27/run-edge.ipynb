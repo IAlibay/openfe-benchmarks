{
 "cells": [
  {
   "cell_type": "code",
   "execution_count": null,
   "id": "37bdd600",
   "metadata": {},
   "outputs": [],
   "source": [
    "from openfe_benchmarks import tyk2"
   ]
  },
  {
   "cell_type": "code",
   "execution_count": null,
   "id": "d83f558c",
   "metadata": {},
   "outputs": [],
   "source": [
    "tyk2_system = tyk2.get_system()"
   ]
  },
  {
   "cell_type": "code",
   "execution_count": null,
   "id": "e4cef2e5",
   "metadata": {},
   "outputs": [],
   "source": [
    "target_edges = (\"ligand_23\", \"ligand_27\")\n",
    "\n",
    "for entry in tyk2_system.ligand_network.edges:\n",
    "    if (entry.molA.name in target_edges and\n",
    "        entry.molB.name in target_edges):\n",
    "            edge = entry\n",
    "            \n",
    "display(edge)"
   ]
  },
  {
   "cell_type": "code",
   "execution_count": null,
   "id": "724a6d47",
   "metadata": {},
   "outputs": [],
   "source": [
    "from openfe_benchmarks.utils import show_edge_3D\n",
    "show_edge_3D(edge, spheres=False, shift=(0,0,0))"
   ]
  },
  {
   "cell_type": "code",
   "execution_count": null,
   "id": "f18579b2",
   "metadata": {},
   "outputs": [],
   "source": [
    "from openfe.setup.methods.openmm.equil_rbfe_methods import RelativeLigandTransform\n",
    "from openff.units import unit\n",
    "\n",
    "settings = RelativeLigandTransform.get_default_settings()\n",
    "\n",
    "settings.simulation_settings.equilibration_length = 1000 * unit.picosecond\n",
    "settings.simulation_settings.production_length = 5000 * unit.picosecond\n",
    "settings.system_settings.hydrogen_mass = 3.0\n",
    "settings.integrator_settings.timestep = 2.0 * unit.femtosecond\n",
    "settings.integrator_settings.n_steps = 250 * unit.timestep"
   ]
  },
  {
   "cell_type": "code",
   "execution_count": null,
   "id": "4ed7dd8a",
   "metadata": {},
   "outputs": [],
   "source": [
    "import pprint\n",
    "for setting in settings:\n",
    "    pprint.pprint(setting)"
   ]
  },
  {
   "cell_type": "code",
   "execution_count": null,
   "id": "ae594147",
   "metadata": {},
   "outputs": [],
   "source": [
    "import copy\n",
    "from openfe.setup import ChemicalSystem\n",
    "\n",
    "\n",
    "stateA = ChemicalSystem({'ligand': edge.molA,\n",
    "                         'solvent': tyk2_system.solvent_component})\n",
    "stateB = ChemicalSystem({'ligand': edge.molB,\n",
    "                         'solvent': tyk2_system.solvent_component})\n",
    "\n",
    "simset = copy.deepcopy(settings)\n",
    "simset.simulation_settings.output_filename = f\"{edge.molA.name}_{edge.molB.name}_solvent.nc\"\n",
    "simset.simulation_settings.checkpoint_storage = f\"{edge.molA.name}_{edge.molB.name}_solvent_checkpoint.nc\"\n",
    "\n",
    "solvent_transform = RelativeLigandTransform(\n",
    "    stateA=stateA, stateB=stateB, ligandmapping=edge, settings=simset\n",
    ")"
   ]
  },
  {
   "cell_type": "code",
   "execution_count": null,
   "id": "fbf9625e",
   "metadata": {},
   "outputs": [],
   "source": [
    "stateA = ChemicalSystem({'ligand': edge.molA,\n",
    "                         'solvent': tyk2_system.solvent_component,\n",
    "                         'protein': tyk2_system.protein_component})\n",
    "stateB = ChemicalSystem({'ligand': edge.molB,\n",
    "                         'solvent': tyk2_system.solvent_component,\n",
    "                         'protein': tyk2_system.protein_component})\n",
    "\n",
    "simset = copy.deepcopy(settings)\n",
    "\n",
    "simset.simulation_settings.output_filename = f\"{edge.molA.name}_{edge.molB.name}_complex.nc\"\n",
    "simset.simulation_settings.checkpoint_storage = f\"{edge.molA.name}_{edge.molB.name}_complex_checkpoint.nc\"\n",
    "\n",
    "complex_transform = RelativeLigandTransform(\n",
    "    stateA=stateA, stateB=stateB, ligandmapping=edge, settings=simset\n",
    ")"
   ]
  },
  {
   "cell_type": "code",
   "execution_count": null,
   "id": "2a8f2173",
   "metadata": {},
   "outputs": [],
   "source": [
    "#NBVAL_IGNORE_OUTPUT\n",
    "import os\n",
    "os.environ[\"CUDA_DEVICE_ORDER\"]=\"PCI_BUS_ID\"\n",
    "os.environ[\"CUDA_VISIBLE_DEVICES\"]=\"0\""
   ]
  },
  {
   "cell_type": "code",
   "execution_count": null,
   "id": "9287f8c7",
   "metadata": {},
   "outputs": [],
   "source": [
    "#NBVAL_IGNORE_OUTPUT\n",
    "complex_transform.run(verbose=True)"
   ]
  },
  {
   "cell_type": "code",
   "execution_count": null,
   "id": "2d6ce700",
   "metadata": {},
   "outputs": [],
   "source": [
    "#NBVAL_IGNORE_OUTPUT\n",
    "solvent_transform.run(verbose=True)"
   ]
  }
 ],
 "metadata": {
  "kernelspec": {
   "display_name": "Python 3 (ipykernel)",
   "language": "python",
   "name": "python3"
  },
  "language_info": {
   "codemirror_mode": {
    "name": "ipython",
    "version": 3
   },
   "file_extension": ".py",
   "mimetype": "text/x-python",
   "name": "python",
   "nbconvert_exporter": "python",
   "pygments_lexer": "ipython3",
   "version": "3.9.0"
  }
 },
 "nbformat": 4,
 "nbformat_minor": 5
}
